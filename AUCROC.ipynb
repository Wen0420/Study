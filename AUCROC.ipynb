{
 "cells": [
  {
   "cell_type": "markdown",
   "metadata": {},
   "source": [
    "# <center>AUC</center>"
   ]
  },
  {
   "cell_type": "markdown",
   "metadata": {},
   "source": [
    "### AUC = Area Under the Curve\n",
    "\n",
    "### ROC Curve = Receiver Operating Characteristic Curve"
   ]
  },
  {
   "cell_type": "code",
   "execution_count": null,
   "metadata": {},
   "outputs": [],
   "source": []
  },
  {
   "cell_type": "markdown",
   "metadata": {},
   "source": [
    "## 1. Confusion Matrix"
   ]
  },
  {
   "cell_type": "markdown",
   "metadata": {},
   "source": [
    "![confusion-matrix](./pics/aucroc/confusion-matrix.png)"
   ]
  },
  {
   "cell_type": "markdown",
   "metadata": {},
   "source": [
    "![confusion-matrix-example](./pics/aucroc/confusion-matrix-example.png)"
   ]
  },
  {
   "cell_type": "markdown",
   "metadata": {},
   "source": [
    "### Recall (召回率, 真阳性率)\n",
    "\n",
    "Out of all actual positive classes, how much a model can predict correctly. It should be high as possible.\n",
    "\n",
    "对所有真实的正例，模型能够预测对多少比例(能\"召回\"多少比例).\n",
    "\n",
    "$Recall = Sensitivity = TPR = \\frac {TP} {TP + FN}$"
   ]
  },
  {
   "cell_type": "markdown",
   "metadata": {},
   "source": [
    "### False Positive Rate (假阳性率)\n",
    "\n",
    "$FPR = \\frac {FP} {FP + TN}$"
   ]
  },
  {
   "cell_type": "markdown",
   "metadata": {},
   "source": [
    "### Precision (精确率)\n",
    "\n",
    "Out of all the positive classes a mode have predicted, how many are actually positive.\n",
    "\n",
    "所有被模型预测为正例的，有多少比例是真正的正例\n",
    "\n",
    "$Precision = \\frac {TP} {TP + FP}$"
   ]
  },
  {
   "cell_type": "markdown",
   "metadata": {},
   "source": [
    "### Accuracy (准确率)\n",
    "\n",
    "Out of all cases, how many a model can predict correctly.\n",
    "\n",
    "所有被模型预测正确的正例和负例的总比例\n",
    "\n",
    "$Accuracy = \\frac {TP + TN} {TP + TN + FP + FN}$"
   ]
  },
  {
   "cell_type": "markdown",
   "metadata": {},
   "source": [
    "### F1 measure ( F1 score)\n",
    "\n",
    "$F = \\frac {2 \\cdot Recall \\cdot Precision} {Recall + Precision}$"
   ]
  },
  {
   "cell_type": "markdown",
   "metadata": {},
   "source": [
    "### F measure (F score)\n",
    "\n",
    "$F_\\beta = (1 + \\beta^2) \\cdot \\frac {Recall \\cdot Precision} {\\beta^2 \\cdot Precision + Recall}$\n",
    "\n",
    "* when $\\beta = 1$, F = F1\n",
    "* when $\\beta > 1$, F -> Recall\n",
    "* when $\\beta < 1$, F -> Precision"
   ]
  },
  {
   "cell_type": "markdown",
   "metadata": {},
   "source": [
    "<hr/>"
   ]
  },
  {
   "cell_type": "markdown",
   "metadata": {},
   "source": [
    "![confusion-matrix-table](./pics/aucroc/confusion-matrix-table.png)"
   ]
  },
  {
   "cell_type": "markdown",
   "metadata": {},
   "source": [
    "|           | Actual 1 | Actual 0 |\n",
    "| -         | -        | -        |\n",
    "| Predict 1 | TP = 2   | FP = 1   |\n",
    "| Predict 0 | FN = 2   | TN = 2   |\n"
   ]
  },
  {
   "cell_type": "markdown",
   "metadata": {},
   "source": [
    "![confusion-matrix](./pics/aucroc/confusion-matrix.png)"
   ]
  },
  {
   "cell_type": "markdown",
   "metadata": {},
   "source": [
    "$Recall = \\frac {TP} {TP + FN} = \\frac {2} {2 + 2} = \\frac 1 2$"
   ]
  },
  {
   "cell_type": "markdown",
   "metadata": {},
   "source": [
    "$Precision = \\frac {TP} {TP + FP} = \\frac {2} {2 + 1} = \\frac 2 3$"
   ]
  },
  {
   "cell_type": "markdown",
   "metadata": {},
   "source": [
    "$Accuracy = \\frac {TP + TN} {TP + TN + FP + FN} = \\frac 4 7$"
   ]
  },
  {
   "cell_type": "markdown",
   "metadata": {},
   "source": [
    "$F_1 measure = F_1 = \\frac {1} {\\frac 1 2 * (\\frac {1} {Recall} + \\frac {1} {Precision} )}= \\frac {2 * Recall * Precision} {Recall + Precision} = \\frac 4 7$"
   ]
  },
  {
   "cell_type": "markdown",
   "metadata": {},
   "source": [
    "### 算数平均 (arithmetic mean) v.s. 调和平均 (harmonic mean )\n",
    "\n",
    "$F_1 score$ 是Recall和Precision的调和平均数"
   ]
  },
  {
   "cell_type": "code",
   "execution_count": 60,
   "metadata": {},
   "outputs": [
    {
     "data": {
      "text/plain": [
       "(0.5, 0.6666666666666666, 0.5714285714285714)"
      ]
     },
     "execution_count": 60,
     "metadata": {},
     "output_type": "execute_result"
    }
   ],
   "source": [
    "(1/2, 2/3, 4/7)"
   ]
  },
  {
   "cell_type": "code",
   "execution_count": 26,
   "metadata": {},
   "outputs": [
    {
     "data": {
      "text/plain": [
       "0.5833333333333333"
      ]
     },
     "execution_count": 26,
     "metadata": {},
     "output_type": "execute_result"
    }
   ],
   "source": [
    "(1/2 + 2/3) / 2"
   ]
  },
  {
   "cell_type": "markdown",
   "metadata": {},
   "source": [
    "#### 一个10公里的坡地，上坡用了2小时，下坡用了1小时。\n",
    "\n",
    "上坡平均速度，下坡平均速度，总平均速度"
   ]
  },
  {
   "cell_type": "markdown",
   "metadata": {},
   "source": [
    "![confusion-matrix-cal](./pics/aucroc/confusion-matrix-cal.png)"
   ]
  },
  {
   "cell_type": "markdown",
   "metadata": {},
   "source": [
    "## Quiz\n",
    "\n",
    "1. 假设有一种疾病，患病的概率是1%\n",
    "2. 假设随机预测1%的人患病，99%的人不患病\n",
    "3. 计算Recall, Precision, Accuracy, $F_1$的期望值"
   ]
  },
  {
   "cell_type": "markdown",
   "metadata": {},
   "source": [
    "<hr/>"
   ]
  },
  {
   "cell_type": "markdown",
   "metadata": {},
   "source": [
    "### 例子1 预测一种危险的流行病\n",
    "\n",
    "* 正例，阳性，染病\n",
    "* 负例，阴性，没病\n",
    "\n",
    "Type1 Error, False Positive, 没有染病的人被诊断为染病了。不好，但是可以接受。虚惊一场，进一步检查，最后没事儿回家。\n",
    "\n",
    "**Type2 Error**, False Negative, 染病的人被诊断为没有染病。**不可接受，**导致疾病进一步传播，爆发。"
   ]
  },
  {
   "cell_type": "markdown",
   "metadata": {},
   "source": [
    "### 例子2 IPhone面部识别解锁\n",
    "\n",
    "* 正例，面容识别通过，解锁\n",
    "* 负例，面容识别失败，不解锁\n",
    "\n",
    "**Type1 Error**, False Positive, 客人的面容识别通过，不该解锁的解锁了。**不可以接受。**\n",
    "\n",
    "Type2 Error, False Negative, 主人的面容识别失败，该解锁的没解锁。不好，但是可以接受"
   ]
  },
  {
   "cell_type": "markdown",
   "metadata": {},
   "source": [
    "### 例子3 Marketing预测是否为潜在客户\n",
    "\n",
    "* 正例，预测是潜在客户，投放广告\n",
    "* 负例，预测不是潜在客户，不投放广告\n",
    "\n",
    "Type1 Error, False Positive, 不是潜在客户被预测为潜在客户，投放了广告。不好，但是可以接受。\n",
    "\n",
    "**Type2 Error**, False Negative, 是潜在的客户被预测为不是，不投放广告。**不可以接受。**"
   ]
  },
  {
   "cell_type": "markdown",
   "metadata": {},
   "source": [
    "## 2. ROC (receiver operating characteristic curve)"
   ]
  },
  {
   "cell_type": "markdown",
   "metadata": {},
   "source": [
    "![roc](./pics/aucroc/roc.png)"
   ]
  },
  {
   "cell_type": "markdown",
   "metadata": {},
   "source": [
    "### A perfect classifier"
   ]
  },
  {
   "cell_type": "code",
   "execution_count": 50,
   "metadata": {},
   "outputs": [],
   "source": [
    "import numpy as np\n",
    "import matplotlib.pyplot as plt"
   ]
  },
  {
   "cell_type": "code",
   "execution_count": 45,
   "metadata": {},
   "outputs": [
    {
     "data": {
      "image/png": "[encoded data removed]",
      "text/plain": [
       "<Figure size 432x288 with 1 Axes>"
      ]
     },
     "metadata": {
      "needs_background": "light"
     },
     "output_type": "display_data"
    }
   ],
   "source": [
    "X = np.arange(-8, 8, 0.1)\n",
    "\n",
    "Y = 1 / (1 + np.exp(-X))\n",
    "plt.plot(X, Y, '-')\n",
    "\n",
    "X0 = np.array([-7, -5, -3, -1])\n",
    "Y0 = 1 / (1 + np.exp(-X0))\n",
    "plt.plot(X0, Y0, '*', color='black')\n",
    "\n",
    "X1 = np.array([1, 3, 5, 7])\n",
    "Y1 = 1 / (1 + np.exp(-X1))\n",
    "plt.plot(X1, Y1, '*', color='red')\n",
    "plt.plot(X1, Y1, '*', color='red')\n",
    "\n",
    "line = 0.998 + 0 * X\n",
    "plt.plot(X, line, '-')\n",
    "\n",
    "\n",
    "plt.show()"
   ]
  },
  {
   "cell_type": "markdown",
   "metadata": {},
   "source": [
    "#### X axis\n",
    "$FPR = \\frac {FP} {FP + TN}$\n",
    "\n",
    "#### Y axis\n",
    "$TPR = Recall = Sensitivity = \\frac {TP} {TP + FN}$"
   ]
  },
  {
   "cell_type": "markdown",
   "metadata": {},
   "source": [
    "\n",
    "\n",
    "#### when y = 1.0\n",
    "\n",
    "|           | Actual 1 | Actual 0 |\n",
    "| -         | -        | -        |\n",
    "| Predict 1 | TP = 0   | FP = 0   |\n",
    "| Predict 0 | FN = 4   | TN = 4   |\n",
    "\n",
    "(FPR, TPR) = (0, 0)"
   ]
  },
  {
   "cell_type": "markdown",
   "metadata": {},
   "source": [
    "#### when y = 0.998\n",
    "\n",
    "|           | Actual 1 | Actual 0 |\n",
    "| -         | -        | -        |\n",
    "| Predict 1 | TP = 1   | FP = 0   |\n",
    "| Predict 0 | FN = 3   | TN = 4   |\n",
    "\n",
    "(FPR, TPR) = (0, 0.25)"
   ]
  },
  {
   "cell_type": "markdown",
   "metadata": {},
   "source": [
    "#### when y = 0.98\n",
    "\n",
    "|           | Actual 1 | Actual 0 |\n",
    "| -         | -        | -        |\n",
    "| Predict 1 | TP = 2   | FP = 0   |\n",
    "| Predict 0 | FN = 2   | TN = 4   |\n",
    "\n",
    "(FPR, TPR) = (0, 0.5)"
   ]
  },
  {
   "cell_type": "markdown",
   "metadata": {},
   "source": [
    "#### when y = 0.8\n",
    "\n",
    "|           | Actual 1 | Actual 0 |\n",
    "| -         | -        | -        |\n",
    "| Predict 1 | TP = 3   | FP = 0   |\n",
    "| Predict 0 | FN = 1   | TN = 4   |\n",
    "\n",
    "(FPR, TPR) = (0, 0.75)"
   ]
  },
  {
   "cell_type": "markdown",
   "metadata": {},
   "source": [
    "#### when y = 0.5\n",
    "\n",
    "|           | Actual 1 | Actual 0 |\n",
    "| -         | -        | -        |\n",
    "| Predict 1 | TP = 4   | FP = 0   |\n",
    "| Predict 0 | FN = 0   | TN = 4   |\n",
    "\n",
    "(FPR, TPR) = (0, 1)"
   ]
  },
  {
   "cell_type": "markdown",
   "metadata": {},
   "source": [
    "#### when y = 0.2\n",
    "\n",
    "|           | Actual 1 | Actual 0 |\n",
    "| -         | -        | -        |\n",
    "| Predict 1 | TP = 4   | FP = 1   |\n",
    "| Predict 0 | FN = 0   | TN = 3   |\n",
    "\n",
    "(FPR, TPR) = (0.25, 1)"
   ]
  },
  {
   "cell_type": "markdown",
   "metadata": {},
   "source": [
    "#### when y = 0.02\n",
    "\n",
    "|           | Actual 1 | Actual 0 |\n",
    "| -         | -        | -        |\n",
    "| Predict 1 | TP = 4   | FP = 2   |\n",
    "| Predict 0 | FN = 0   | TN = 2   |\n",
    "\n",
    "(FPR, TPR) = (0.5, 1)"
   ]
  },
  {
   "cell_type": "markdown",
   "metadata": {},
   "source": [
    "#### when y = 0.002\n",
    "\n",
    "|           | Actual 1 | Actual 0 |\n",
    "| -         | -        | -        |\n",
    "| Predict 1 | TP = 4   | FP = 3   |\n",
    "| Predict 0 | FN = 0   | TN = 1   |\n",
    "\n",
    "(FPR, TPR) = (0.75, 1)"
   ]
  },
  {
   "cell_type": "markdown",
   "metadata": {},
   "source": [
    "#### when y = 0.0\n",
    "\n",
    "|           | Actual 1 | Actual 0 |\n",
    "| -         | -        | -        |\n",
    "| Predict 1 | TP = 4   | FP = 4   |\n",
    "| Predict 0 | FN = 0   | TN = 0   |\n",
    "\n",
    "(FPR, TPR) = (1, 1)"
   ]
  },
  {
   "cell_type": "code",
   "execution_count": 55,
   "metadata": {},
   "outputs": [
    {
     "data": {
      "image/png": "[encoded data removed]",
      "text/plain": [
       "<Figure size 432x288 with 1 Axes>"
      ]
     },
     "metadata": {
      "needs_background": "light"
     },
     "output_type": "display_data"
    }
   ],
   "source": [
    "FPR = np.array([0.0, 0.0, 0.0, 0.0, 0.0, 0.25, 0.5, 0.75, 1.0])\n",
    "TPR = np.array([0.0, 0.25, 0.5, 0.75, 1.0, 1.0, 1.0, 1.0, 1.0])\n",
    "\n",
    "\n",
    "plt.plot(FPR, TPR, '-')\n",
    "\n",
    "plt.title('ROC Cruve')\n",
    "plt.xlabel('FPR')\n",
    "plt.ylabel('TPR')\n",
    "plt.show()"
   ]
  },
  {
   "cell_type": "markdown",
   "metadata": {},
   "source": [
    "#### AUC = 1.0"
   ]
  },
  {
   "cell_type": "markdown",
   "metadata": {},
   "source": [
    "### Another classifier which makes mistakes"
   ]
  },
  {
   "cell_type": "code",
   "execution_count": 59,
   "metadata": {},
   "outputs": [
    {
     "data": {
      "image/png": "[encoded data removed]",
      "text/plain": [
       "<Figure size 432x288 with 1 Axes>"
      ]
     },
     "metadata": {
      "needs_background": "light"
     },
     "output_type": "display_data"
    }
   ],
   "source": [
    "X = np.arange(-8, 8, 0.1)\n",
    "\n",
    "Y = 1 / (1 + np.exp(-X))\n",
    "plt.plot(X, Y, '-')\n",
    "\n",
    "X0 = np.array([-7, -5, -3, 1])\n",
    "Y0 = 1 / (1 + np.exp(-X0))\n",
    "plt.plot(X0, Y0, '*', color='black')\n",
    "\n",
    "X1 = np.array([-1, 3, 5, 7])\n",
    "Y1 = 1 / (1 + np.exp(-X1))\n",
    "plt.plot(X1, Y1, '*', color='red')\n",
    "plt.plot(X1, Y1, '*', color='red')\n",
    "\n",
    "line = 0.5 + 0 * X\n",
    "plt.plot(X, line, '-')\n",
    "\n",
    "\n",
    "plt.show()"
   ]
  },
  {
   "cell_type": "markdown",
   "metadata": {},
   "source": [
    "\n",
    "\n",
    "#### when y = 1.0\n",
    "\n",
    "|           | Actual 1 | Actual 0 |\n",
    "| -         | -        | -        |\n",
    "| Predict 1 | TP = 0   | FP = 0   |\n",
    "| Predict 0 | FN = 4   | TN = 4   |\n",
    "\n",
    "(FPR, TPR) = (0, 0)"
   ]
  },
  {
   "cell_type": "markdown",
   "metadata": {},
   "source": [
    "#### when y = 0.998\n",
    "\n",
    "|           | Actual 1 | Actual 0 |\n",
    "| -         | -        | -        |\n",
    "| Predict 1 | TP = 1   | FP = 0   |\n",
    "| Predict 0 | FN = 3   | TN = 4   |\n",
    "\n",
    "(FPR, TPR) = (0, 0.25)"
   ]
  },
  {
   "cell_type": "markdown",
   "metadata": {},
   "source": [
    "#### when y = 0.98\n",
    "\n",
    "|           | Actual 1 | Actual 0 |\n",
    "| -         | -        | -        |\n",
    "| Predict 1 | TP = 2   | FP = 0   |\n",
    "| Predict 0 | FN = 2   | TN = 4   |\n",
    "\n",
    "(FPR, TPR) = (0, 0.5)"
   ]
  },
  {
   "cell_type": "markdown",
   "metadata": {},
   "source": [
    "#### when y = 0.8\n",
    "\n",
    "|           | Actual 1 | Actual 0 |\n",
    "| -         | -        | -        |\n",
    "| Predict 1 | TP = 3   | FP = 0   |\n",
    "| Predict 0 | FN = 1   | TN = 4   |\n",
    "\n",
    "(FPR, TPR) = (0, 0.75)"
   ]
  },
  {
   "cell_type": "markdown",
   "metadata": {},
   "source": [
    "#### when y = 0.5\n",
    "\n",
    "|           | Actual 1 | Actual 0 |\n",
    "| -         | -        | -        |\n",
    "| Predict 1 | TP = 3   | FP = 1   |\n",
    "| Predict 0 | FN = 1   | TN = 3   |\n",
    "\n",
    "(FPR, TPR) = (0.25, 0.75)"
   ]
  },
  {
   "cell_type": "markdown",
   "metadata": {},
   "source": [
    "#### when y = 0.2\n",
    "\n",
    "|           | Actual 1 | Actual 0 |\n",
    "| -         | -        | -        |\n",
    "| Predict 1 | TP = 4   | FP = 1   |\n",
    "| Predict 0 | FN = 0   | TN = 3   |\n",
    "\n",
    "(FPR, TPR) = (0.25, 1)"
   ]
  },
  {
   "cell_type": "markdown",
   "metadata": {},
   "source": [
    "#### when y = 0.02\n",
    "\n",
    "|           | Actual 1 | Actual 0 |\n",
    "| -         | -        | -        |\n",
    "| Predict 1 | TP = 4   | FP = 2   |\n",
    "| Predict 0 | FN = 0   | TN = 2   |\n",
    "\n",
    "(FPR, TPR) = (0.5, 1)"
   ]
  },
  {
   "cell_type": "markdown",
   "metadata": {},
   "source": [
    "#### when y = 0.002\n",
    "\n",
    "|           | Actual 1 | Actual 0 |\n",
    "| -         | -        | -        |\n",
    "| Predict 1 | TP = 4   | FP = 3   |\n",
    "| Predict 0 | FN = 0   | TN = 1   |\n",
    "\n",
    "(FPR, TPR) = (0.75, 1)"
   ]
  },
  {
   "cell_type": "markdown",
   "metadata": {},
   "source": [
    "#### when y = 0.0\n",
    "\n",
    "|           | Actual 1 | Actual 0 |\n",
    "| -         | -        | -        |\n",
    "| Predict 1 | TP = 4   | FP = 4   |\n",
    "| Predict 0 | FN = 0   | TN = 0   |\n",
    "\n",
    "(FPR, TPR) = (1, 1)"
   ]
  },
  {
   "cell_type": "code",
   "execution_count": 58,
   "metadata": {},
   "outputs": [
    {
     "data": {
      "image/png": "[encoded data removed]",
      "text/plain": [
       "<Figure size 432x288 with 1 Axes>"
      ]
     },
     "metadata": {
      "needs_background": "light"
     },
     "output_type": "display_data"
    }
   ],
   "source": [
    "FPR2 = np.array([0.0, 0.0, 0.0, 0.0, 0.25, 0.25, 0.5, 0.75, 1.0])\n",
    "TPR2 = np.array([0.0, 0.25, 0.5, 0.75, 0.75, 1.0, 1.0, 1.0, 1.0])\n",
    "\n",
    "\n",
    "plt.plot(FPR2, TPR2, '-')\n",
    "\n",
    "plt.title('ROC Cruve')\n",
    "plt.xlabel('FPR')\n",
    "plt.ylabel('TPR')\n",
    "plt.show()"
   ]
  },
  {
   "cell_type": "markdown",
   "metadata": {},
   "source": [
    "#### AUC = 0.96"
   ]
  },
  {
   "cell_type": "markdown",
   "metadata": {},
   "source": [
    "<hr/>"
   ]
  },
  {
   "cell_type": "markdown",
   "metadata": {},
   "source": [
    "![roc1](./pics/aucroc/roc1.png)"
   ]
  },
  {
   "cell_type": "markdown",
   "metadata": {},
   "source": [
    "![roc2](./pics/aucroc/roc2.png)"
   ]
  },
  {
   "cell_type": "code",
   "execution_count": null,
   "metadata": {},
   "outputs": [],
   "source": []
  }
 ],
 "metadata": {
  "kernelspec": {
   "display_name": "Python 3",
   "language": "python",
   "name": "python3"
  },
  "language_info": {
   "codemirror_mode": {
    "name": "ipython",
    "version": 3
   },
   "file_extension": ".py",
   "mimetype": "text/x-python",
   "name": "python",
   "nbconvert_exporter": "python",
   "pygments_lexer": "ipython3",
   "version": "3.7.3"
  }
 },
 "nbformat": 4,
 "nbformat_minor": 2
}
