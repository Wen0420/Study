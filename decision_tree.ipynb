{
 "cells": [
  {
   "cell_type": "markdown",
   "metadata": {},
   "source": [
    "# <center> Decision Tree</center>"
   ]
  },
  {
   "cell_type": "markdown",
   "metadata": {},
   "source": [
    "![tree](./pics/tree.jpg)"
   ]
  },
  {
   "cell_type": "markdown",
   "metadata": {},
   "source": [
    "## Goals of lecture \n",
    "\n",
    "* Understand decision tree algorithm, can solve both classification and regression problems\n",
    "* Terminology: Entropy\n",
    "* Use Apache Spark to solve the same classification problem in lecture 12 with decision tree algorithm\n",
    "* Use Apache Spark to solve the same regression problem in lecture 11 with decision treem algorithm"
   ]
  },
  {
   "cell_type": "markdown",
   "metadata": {},
   "source": [
    "## Bird's eye view"
   ]
  },
  {
   "cell_type": "markdown",
   "metadata": {},
   "source": [
    "![decision-tree](./pics/decision-tree.png)"
   ]
  },
  {
   "cell_type": "markdown",
   "metadata": {},
   "source": [
    "Think of x, y as\n",
    "* $ x^{(1)} $ are you in selective school\n",
    "* $ x^{(2)} $ average learning hours per day\n",
    "* $ y $ enter university\n",
    "\n",
    "Or think of x, y as\n",
    "* $ x^{(1)} $ weight\n",
    "* $ x^{(2)} $ height\n",
    "* $ y $ risk of diabetes\n",
    "\n",
    "#### if-else logic\n",
    "\n",
    "#### Key question is how to construct a tree\n",
    "* which feature goes to the root node, which feature is the second, third ...\n",
    "* how to determine value $a$\n",
    "* how deep is the tree"
   ]
  },
  {
   "cell_type": "markdown",
   "metadata": {},
   "source": [
    "## Just a bit Information Theory"
   ]
  },
  {
   "cell_type": "markdown",
   "metadata": {},
   "source": [
    "### How to measure information\n",
    "\n",
    "* 明天太阳会从东方升起\n",
    "* 明天会下雨\n",
    "* 明天你会拿到一个年薪百万的offer"
   ]
  },
  {
   "cell_type": "markdown",
   "metadata": {},
   "source": [
    "### Big Ideas\n",
    "\n",
    "* $ I(x) $ ~ $ P(x) $\n",
    "\n",
    "* $ I(x_1, x_2) = I(x_1) + I(x_2) $\n",
    "\n",
    "* $ I(x) >= 0 $"
   ]
  },
  {
   "cell_type": "markdown",
   "metadata": {},
   "source": [
    "### Information\n",
    "\n",
    "$$\n",
    "I(x) = \\log_2 \\frac {1} {P(x)} = -\\log_2{P(x)}\n",
    "$$"
   ]
  },
  {
   "cell_type": "markdown",
   "metadata": {},
   "source": [
    "### Entropy\n",
    "\n",
    "$$\n",
    "H(x) = E[I(x)] = \\sum_{1=1}^n P(x_i)I(x_i) = -\\sum_{1=1}^n p_i \\log_2 p_i\n",
    "$$"
   ]
  },
  {
   "cell_type": "markdown",
   "metadata": {},
   "source": [
    "### Flip a coin\n",
    "\n",
    "* head, $ P(x_1) = \\frac 1 2 $\n",
    "* tail, $ P(x_2) = \\frac 1 2 $\n",
    "* Entroy, $ H(x) = -\\frac 1 2\\log_2 \\frac 1 2 - \\frac 1 2\\log_2 \\frac 1 2 = 1 $"
   ]
  },
  {
   "cell_type": "code",
   "execution_count": 1,
   "metadata": {},
   "outputs": [],
   "source": [
    "import numpy as np\n",
    "from matplotlib import pyplot as plt"
   ]
  },
  {
   "cell_type": "code",
   "execution_count": 2,
   "metadata": {},
   "outputs": [
    {
     "data": {
      "image/png": "[encoded data removed]",
      "text/plain": [
       "<Figure size 432x288 with 1 Axes>"
      ]
     },
     "metadata": {
      "needs_background": "light"
     },
     "output_type": "display_data"
    }
   ],
   "source": [
    "p = np.arange(0.01, 1.0, 0.01)\n",
    "y = -p*np.log2(p) - (1-p)*np.log2(1-p)\n",
    "plt.plot(p, y, '-')\n",
    "plt.show()"
   ]
  },
  {
   "cell_type": "markdown",
   "metadata": {},
   "source": [
    "#### Entropy as a measure of uncertainty"
   ]
  },
  {
   "cell_type": "markdown",
   "metadata": {},
   "source": [
    "### Conditional Entropy"
   ]
  },
  {
   "cell_type": "markdown",
   "metadata": {},
   "source": [
    "$$\n",
    "H(Y|X) = \\sum_{i=1}^n p_i H(Y|X=x_i)\n",
    "$$"
   ]
  },
  {
   "cell_type": "markdown",
   "metadata": {},
   "source": [
    "### Information Gain"
   ]
  },
  {
   "cell_type": "markdown",
   "metadata": {},
   "source": [
    "$$\n",
    "g(D, A) = H(D) - H(D|A)\n",
    "$$"
   ]
  },
  {
   "cell_type": "markdown",
   "metadata": {},
   "source": [
    "### Quiz\n",
    "\n",
    "* 考上大学，考不上大学的概率各位50%\n",
    "* 平均每天学习10小时以上的条件下，考上大学的概率95%，考不上大学的概率5%\n",
    "\n",
    "计算\"每天学习10小时以上\"的信息增益"
   ]
  },
  {
   "cell_type": "code",
   "execution_count": 3,
   "metadata": {},
   "outputs": [
    {
     "data": {
      "text/plain": [
       "1.0"
      ]
     },
     "execution_count": 3,
     "metadata": {},
     "output_type": "execute_result"
    }
   ],
   "source": [
    "h = -1/2*np.log2(1/2) - 1/2*np.log2(1/2)\n",
    "h"
   ]
  },
  {
   "cell_type": "code",
   "execution_count": 4,
   "metadata": {},
   "outputs": [
    {
     "data": {
      "text/plain": [
       "0.14060110474317616"
      ]
     },
     "execution_count": 4,
     "metadata": {},
     "output_type": "execute_result"
    }
   ],
   "source": [
    "h10 = -0.95*np.log2(0.95) - 0.95*np.log2(0.95)\n",
    "h10"
   ]
  },
  {
   "cell_type": "code",
   "execution_count": 5,
   "metadata": {},
   "outputs": [
    {
     "data": {
      "text/plain": [
       "0.8593988952568239"
      ]
     },
     "execution_count": 5,
     "metadata": {},
     "output_type": "execute_result"
    }
   ],
   "source": [
    "h - h10"
   ]
  },
  {
   "cell_type": "code",
   "execution_count": 6,
   "metadata": {},
   "outputs": [],
   "source": [
    "from pyspark.sql import SparkSession\n",
    "spark = SparkSession.builder.appName(\"DecisionTree\").getOrCreate()"
   ]
  },
  {
   "cell_type": "code",
   "execution_count": 7,
   "metadata": {},
   "outputs": [
    {
     "name": "stdout",
     "output_type": "stream",
     "text": [
      "+---+---------+--------+----------+------+------------+\n",
      "| id|age_group|have_job|have_house|credit|approve_loan|\n",
      "+---+---------+--------+----------+------+------------+\n",
      "|  1|        y|       n|         n|     m|           n|\n",
      "|  2|        y|       n|         n|     g|           n|\n",
      "|  3|        y|       y|         n|     g|           y|\n",
      "|  4|        y|       y|         y|     m|           y|\n",
      "|  5|        y|       n|         n|     m|           n|\n",
      "|  6|        m|       n|         n|     m|           n|\n",
      "|  7|        m|       n|         n|     g|           n|\n",
      "|  8|        m|       y|         y|     g|           y|\n",
      "|  9|        m|       n|         y|     e|           y|\n",
      "| 10|        m|       n|         y|     e|           y|\n",
      "| 11|        o|       n|         y|     e|           y|\n",
      "| 12|        o|       n|         y|     g|           y|\n",
      "| 13|        o|       y|         n|     g|           y|\n",
      "| 14|        o|       y|         n|     e|           y|\n",
      "| 15|        o|       n|         n|     m|           n|\n",
      "+---+---------+--------+----------+------+------------+\n",
      "\n"
     ]
    }
   ],
   "source": [
    "loan = spark.read.csv('./data/loan/loan.csv', header=True, inferSchema=True)\n",
    "loan.show()"
   ]
  },
  {
   "cell_type": "markdown",
   "metadata": {},
   "source": [
    "* age_group: Young, Young, Middle-age, Old\n",
    "* have_job: Yes, No\n",
    "* have_house: Yes, No\n",
    "* credit: Medium, Good, Extremely-good\n",
    "* approve_loan: Yes, No"
   ]
  },
  {
   "cell_type": "markdown",
   "metadata": {},
   "source": [
    "### What is the best feature in above table?"
   ]
  },
  {
   "cell_type": "code",
   "execution_count": 8,
   "metadata": {},
   "outputs": [
    {
     "name": "stdout",
     "output_type": "stream",
     "text": [
      "+------------+-----+\n",
      "|approve_loan|count|\n",
      "+------------+-----+\n",
      "|           n|    6|\n",
      "|           y|    9|\n",
      "+------------+-----+\n",
      "\n"
     ]
    }
   ],
   "source": [
    "loan.groupBy('approve_loan').count().show()"
   ]
  },
  {
   "cell_type": "markdown",
   "metadata": {},
   "source": [
    "#### Initial Entropy $H(D)$"
   ]
  },
  {
   "cell_type": "code",
   "execution_count": 9,
   "metadata": {},
   "outputs": [
    {
     "data": {
      "text/plain": [
       "0.9709505944546686"
      ]
     },
     "execution_count": 9,
     "metadata": {},
     "output_type": "execute_result"
    }
   ],
   "source": [
    "h = -6/15*np.log2(6/15) - 9/15*np.log2(9/15)\n",
    "h"
   ]
  },
  {
   "cell_type": "markdown",
   "metadata": {},
   "source": [
    "#### Conditional Entropy $H(D|age)$"
   ]
  },
  {
   "cell_type": "code",
   "execution_count": 10,
   "metadata": {},
   "outputs": [
    {
     "name": "stdout",
     "output_type": "stream",
     "text": [
      "+---------+-----+\n",
      "|age_group|count|\n",
      "+---------+-----+\n",
      "|        m|    5|\n",
      "|        o|    5|\n",
      "|        y|    5|\n",
      "+---------+-----+\n",
      "\n"
     ]
    }
   ],
   "source": [
    "loan.groupBy('age_group').count().show()"
   ]
  },
  {
   "cell_type": "code",
   "execution_count": 11,
   "metadata": {},
   "outputs": [
    {
     "name": "stdout",
     "output_type": "stream",
     "text": [
      "+------------+-----+\n",
      "|approve_loan|count|\n",
      "+------------+-----+\n",
      "|           n|    3|\n",
      "|           y|    2|\n",
      "+------------+-----+\n",
      "\n"
     ]
    }
   ],
   "source": [
    "loan.filter('age_group = \"y\"').groupBy('approve_loan').count().show()"
   ]
  },
  {
   "cell_type": "code",
   "execution_count": 12,
   "metadata": {},
   "outputs": [
    {
     "name": "stdout",
     "output_type": "stream",
     "text": [
      "+------------+-----+\n",
      "|approve_loan|count|\n",
      "+------------+-----+\n",
      "|           n|    2|\n",
      "|           y|    3|\n",
      "+------------+-----+\n",
      "\n"
     ]
    }
   ],
   "source": [
    "loan.filter('age_group = \"m\"').groupBy('approve_loan').count().show()"
   ]
  },
  {
   "cell_type": "code",
   "execution_count": 13,
   "metadata": {},
   "outputs": [
    {
     "name": "stdout",
     "output_type": "stream",
     "text": [
      "+------------+-----+\n",
      "|approve_loan|count|\n",
      "+------------+-----+\n",
      "|           n|    1|\n",
      "|           y|    4|\n",
      "+------------+-----+\n",
      "\n"
     ]
    }
   ],
   "source": [
    "loan.filter('age_group = \"o\"').groupBy('approve_loan').count().show()"
   ]
  },
  {
   "cell_type": "code",
   "execution_count": 14,
   "metadata": {},
   "outputs": [
    {
     "data": {
      "text/plain": [
       "0.8879430945988998"
      ]
     },
     "execution_count": 14,
     "metadata": {},
     "output_type": "execute_result"
    }
   ],
   "source": [
    "h_age = ( 5/15 * (-3/5*np.log2(3/5) - 2/5*np.log2(2/5)) + \n",
    "          5/15 * (-3/5*np.log2(3/5) - 2/5*np.log2(2/5)) + \n",
    "          5/15 * (-1/5*np.log2(1/5) - 4/5*np.log2(4/5)))\n",
    "h_age"
   ]
  },
  {
   "cell_type": "markdown",
   "metadata": {},
   "source": [
    "#### Information Gain of age $H(D) - H(D|age)$"
   ]
  },
  {
   "cell_type": "code",
   "execution_count": 15,
   "metadata": {},
   "outputs": [
    {
     "data": {
      "text/plain": [
       "0.08300749985576883"
      ]
     },
     "execution_count": 15,
     "metadata": {},
     "output_type": "execute_result"
    }
   ],
   "source": [
    "ig_age = h - h_age\n",
    "ig_age"
   ]
  },
  {
   "cell_type": "markdown",
   "metadata": {},
   "source": [
    "#### Conditional Entropy $H(D|job)$"
   ]
  },
  {
   "cell_type": "code",
   "execution_count": 16,
   "metadata": {},
   "outputs": [
    {
     "name": "stdout",
     "output_type": "stream",
     "text": [
      "+--------+-----+\n",
      "|have_job|count|\n",
      "+--------+-----+\n",
      "|       n|   10|\n",
      "|       y|    5|\n",
      "+--------+-----+\n",
      "\n"
     ]
    }
   ],
   "source": [
    "loan.groupBy('have_job').count().show()"
   ]
  },
  {
   "cell_type": "code",
   "execution_count": 17,
   "metadata": {},
   "outputs": [
    {
     "name": "stdout",
     "output_type": "stream",
     "text": [
      "+------------+-----+\n",
      "|approve_loan|count|\n",
      "+------------+-----+\n",
      "|           y|    5|\n",
      "+------------+-----+\n",
      "\n"
     ]
    }
   ],
   "source": [
    "loan.filter('have_job = \"y\"').groupBy('approve_loan').count().show()"
   ]
  },
  {
   "cell_type": "code",
   "execution_count": 18,
   "metadata": {},
   "outputs": [
    {
     "name": "stdout",
     "output_type": "stream",
     "text": [
      "+------------+-----+\n",
      "|approve_loan|count|\n",
      "+------------+-----+\n",
      "|           n|    6|\n",
      "|           y|    4|\n",
      "+------------+-----+\n",
      "\n"
     ]
    }
   ],
   "source": [
    "loan.filter('have_job = \"n\"').groupBy('approve_loan').count().show()"
   ]
  },
  {
   "cell_type": "code",
   "execution_count": 19,
   "metadata": {},
   "outputs": [
    {
     "data": {
      "text/plain": [
       "0.6473003963031123"
      ]
     },
     "execution_count": 19,
     "metadata": {},
     "output_type": "execute_result"
    }
   ],
   "source": [
    "h_job = ( 10/15 * (-6/10*np.log2(6/10) - 4/10*np.log2(4/10)) + \n",
    "          0)\n",
    "h_job"
   ]
  },
  {
   "cell_type": "markdown",
   "metadata": {},
   "source": [
    "#### Information Gain of job $H(D) - H(D|job)$"
   ]
  },
  {
   "cell_type": "code",
   "execution_count": 20,
   "metadata": {},
   "outputs": [
    {
     "data": {
      "text/plain": [
       "0.32365019815155627"
      ]
     },
     "execution_count": 20,
     "metadata": {},
     "output_type": "execute_result"
    }
   ],
   "source": [
    "ig_job = h - h_job\n",
    "ig_job"
   ]
  },
  {
   "cell_type": "markdown",
   "metadata": {},
   "source": [
    "#### Conditional Entropy $H(D|house)$"
   ]
  },
  {
   "cell_type": "code",
   "execution_count": 21,
   "metadata": {},
   "outputs": [
    {
     "name": "stdout",
     "output_type": "stream",
     "text": [
      "+----------+-----+\n",
      "|have_house|count|\n",
      "+----------+-----+\n",
      "|         n|    9|\n",
      "|         y|    6|\n",
      "+----------+-----+\n",
      "\n"
     ]
    }
   ],
   "source": [
    "loan.groupBy('have_house').count().show()"
   ]
  },
  {
   "cell_type": "code",
   "execution_count": 22,
   "metadata": {},
   "outputs": [
    {
     "name": "stdout",
     "output_type": "stream",
     "text": [
      "+------------+-----+\n",
      "|approve_loan|count|\n",
      "+------------+-----+\n",
      "|           y|    6|\n",
      "+------------+-----+\n",
      "\n"
     ]
    }
   ],
   "source": [
    "loan.filter('have_house = \"y\"').groupBy('approve_loan').count().show()"
   ]
  },
  {
   "cell_type": "code",
   "execution_count": 23,
   "metadata": {},
   "outputs": [
    {
     "name": "stdout",
     "output_type": "stream",
     "text": [
      "+------------+-----+\n",
      "|approve_loan|count|\n",
      "+------------+-----+\n",
      "|           n|    6|\n",
      "|           y|    3|\n",
      "+------------+-----+\n",
      "\n"
     ]
    }
   ],
   "source": [
    "loan.filter('have_house = \"n\"').groupBy('approve_loan').count().show()"
   ]
  },
  {
   "cell_type": "code",
   "execution_count": 24,
   "metadata": {},
   "outputs": [
    {
     "data": {
      "text/plain": [
       "0.5509775004326937"
      ]
     },
     "execution_count": 24,
     "metadata": {},
     "output_type": "execute_result"
    }
   ],
   "source": [
    "h_house = ( 9/15 * (-6/9*np.log2(6/9) - 3/9*np.log2(3/9)) + \n",
    "           0)\n",
    "h_house"
   ]
  },
  {
   "cell_type": "markdown",
   "metadata": {},
   "source": [
    "#### Information Gain of house $H(D) - H(D|house)$"
   ]
  },
  {
   "cell_type": "code",
   "execution_count": 25,
   "metadata": {},
   "outputs": [
    {
     "data": {
      "text/plain": [
       "0.4199730940219749"
      ]
     },
     "execution_count": 25,
     "metadata": {},
     "output_type": "execute_result"
    }
   ],
   "source": [
    "ig_house = h - h_house\n",
    "ig_house"
   ]
  },
  {
   "cell_type": "markdown",
   "metadata": {},
   "source": [
    "#### Conditional Entropy $H(D|credit)$"
   ]
  },
  {
   "cell_type": "code",
   "execution_count": 26,
   "metadata": {},
   "outputs": [
    {
     "name": "stdout",
     "output_type": "stream",
     "text": [
      "+------+-----+\n",
      "|credit|count|\n",
      "+------+-----+\n",
      "|     g|    6|\n",
      "|     m|    5|\n",
      "|     e|    4|\n",
      "+------+-----+\n",
      "\n"
     ]
    }
   ],
   "source": [
    "loan.groupBy('credit').count().show()"
   ]
  },
  {
   "cell_type": "code",
   "execution_count": 27,
   "metadata": {},
   "outputs": [
    {
     "name": "stdout",
     "output_type": "stream",
     "text": [
      "+------------+-----+\n",
      "|approve_loan|count|\n",
      "+------------+-----+\n",
      "|           n|    4|\n",
      "|           y|    1|\n",
      "+------------+-----+\n",
      "\n"
     ]
    }
   ],
   "source": [
    "loan.filter('credit = \"m\"').groupBy('approve_loan').count().show()"
   ]
  },
  {
   "cell_type": "code",
   "execution_count": 28,
   "metadata": {},
   "outputs": [
    {
     "name": "stdout",
     "output_type": "stream",
     "text": [
      "+------------+-----+\n",
      "|approve_loan|count|\n",
      "+------------+-----+\n",
      "|           n|    2|\n",
      "|           y|    4|\n",
      "+------------+-----+\n",
      "\n"
     ]
    }
   ],
   "source": [
    "loan.filter('credit = \"g\"').groupBy('approve_loan').count().show()"
   ]
  },
  {
   "cell_type": "code",
   "execution_count": 29,
   "metadata": {},
   "outputs": [
    {
     "name": "stdout",
     "output_type": "stream",
     "text": [
      "+------------+-----+\n",
      "|approve_loan|count|\n",
      "+------------+-----+\n",
      "|           y|    4|\n",
      "+------------+-----+\n",
      "\n"
     ]
    }
   ],
   "source": [
    "loan.filter('credit = \"e\"').groupBy('approve_loan').count().show()"
   ]
  },
  {
   "cell_type": "code",
   "execution_count": 30,
   "metadata": {},
   "outputs": [
    {
     "data": {
      "text/plain": [
       "0.6079610319175832"
      ]
     },
     "execution_count": 30,
     "metadata": {},
     "output_type": "execute_result"
    }
   ],
   "source": [
    "h_credit = ( 5/15 * (-4/5*np.log2(4/5) - 1/5*np.log2(1/5)) + \n",
    "          6/15 * (-2/6*np.log2(2/6) - 4/6*np.log2(4/6)) + \n",
    "          0)\n",
    "h_credit"
   ]
  },
  {
   "cell_type": "markdown",
   "metadata": {},
   "source": [
    "#### Information Gain of house $H(D) - H(D|house)$"
   ]
  },
  {
   "cell_type": "code",
   "execution_count": 31,
   "metadata": {},
   "outputs": [
    {
     "data": {
      "text/plain": [
       "0.36298956253708536"
      ]
     },
     "execution_count": 31,
     "metadata": {},
     "output_type": "execute_result"
    }
   ],
   "source": [
    "ig_credit = h - h_credit\n",
    "ig_credit"
   ]
  },
  {
   "cell_type": "code",
   "execution_count": 32,
   "metadata": {},
   "outputs": [
    {
     "data": {
      "text/plain": [
       "(0.08300749985576883,\n",
       " 0.32365019815155627,\n",
       " 0.4199730940219749,\n",
       " 0.36298956253708536)"
      ]
     },
     "execution_count": 32,
     "metadata": {},
     "output_type": "execute_result"
    }
   ],
   "source": [
    "ig_age, ig_job, ig_house, ig_credit"
   ]
  },
  {
   "cell_type": "markdown",
   "metadata": {},
   "source": [
    "#### ig_house has the biggest information gain, which is the best feature"
   ]
  },
  {
   "cell_type": "markdown",
   "metadata": {},
   "source": [
    "<hr/>"
   ]
  },
  {
   "cell_type": "markdown",
   "metadata": {},
   "source": [
    "### Let's solve the same bank marketing problem with Decision Tree algorithm"
   ]
  },
  {
   "cell_type": "code",
   "execution_count": 33,
   "metadata": {},
   "outputs": [],
   "source": [
    "from pyspark.sql import SparkSession\n",
    "spark = SparkSession.builder.appName('decision-tree').getOrCreate()\n",
    "df = spark.read.csv('./data/bank/bank.csv', header=True, inferSchema=True)"
   ]
  },
  {
   "cell_type": "code",
   "execution_count": 34,
   "metadata": {},
   "outputs": [
    {
     "name": "stdout",
     "output_type": "stream",
     "text": [
      "+---+----------+-------+---------+-------+-------+-------+----+-------+---+-----+--------+--------+-----+--------+--------+-------+\n",
      "|age|job       |marital|education|default|balance|housing|loan|contact|day|month|duration|campaign|pdays|previous|poutcome|deposit|\n",
      "+---+----------+-------+---------+-------+-------+-------+----+-------+---+-----+--------+--------+-----+--------+--------+-------+\n",
      "|59 |admin.    |married|secondary|no     |2343   |yes    |no  |unknown|5  |may  |1042    |1       |-1   |0       |unknown |yes    |\n",
      "|56 |admin.    |married|secondary|no     |45     |no     |no  |unknown|5  |may  |1467    |1       |-1   |0       |unknown |yes    |\n",
      "|41 |technician|married|secondary|no     |1270   |yes    |no  |unknown|5  |may  |1389    |1       |-1   |0       |unknown |yes    |\n",
      "|55 |services  |married|secondary|no     |2476   |yes    |no  |unknown|5  |may  |579     |1       |-1   |0       |unknown |yes    |\n",
      "|54 |admin.    |married|tertiary |no     |184    |no     |no  |unknown|5  |may  |673     |2       |-1   |0       |unknown |yes    |\n",
      "+---+----------+-------+---------+-------+-------+-------+----+-------+---+-----+--------+--------+-----+--------+--------+-------+\n",
      "only showing top 5 rows\n",
      "\n"
     ]
    }
   ],
   "source": [
    "df.show(5, False)"
   ]
  },
  {
   "cell_type": "code",
   "execution_count": 35,
   "metadata": {},
   "outputs": [],
   "source": [
    "# contact, day, month are irrelevant for analysis and prediction\n",
    "df = df.select('age', 'job', 'marital', 'education', 'default', 'balance', 'housing', 'loan', 'contact', 'duration', 'campaign', 'pdays', 'previous', 'poutcome', 'deposit')"
   ]
  },
  {
   "cell_type": "code",
   "execution_count": 36,
   "metadata": {},
   "outputs": [],
   "source": [
    "from pyspark.ml.feature import OneHotEncoderEstimator, StringIndexer, VectorAssembler\n",
    "categoricalColumns = ['job', 'marital', 'education', 'default', 'housing', 'loan', 'contact', 'poutcome']\n",
    "stages = []"
   ]
  },
  {
   "cell_type": "code",
   "execution_count": 37,
   "metadata": {},
   "outputs": [],
   "source": [
    "# index and encode\n",
    "for categoricalCol in categoricalColumns:\n",
    "    stringIndexer = StringIndexer(inputCol = categoricalCol, outputCol = categoricalCol + 'Index')\n",
    "    encoder = OneHotEncoderEstimator(inputCols=[stringIndexer.getOutputCol()], outputCols=[categoricalCol + \"classVec\"])\n",
    "    stages += [stringIndexer, encoder]"
   ]
  },
  {
   "cell_type": "code",
   "execution_count": 38,
   "metadata": {},
   "outputs": [],
   "source": [
    "label_stringIdx = StringIndexer(inputCol = 'deposit', outputCol = 'label')\n",
    "stages += [label_stringIdx]"
   ]
  },
  {
   "cell_type": "code",
   "execution_count": 39,
   "metadata": {},
   "outputs": [],
   "source": [
    "# for numeric columsn, we just use them directly\n",
    "numericCols = ['age', 'balance', 'duration', 'campaign', 'pdays', 'previous']\n",
    "assemblerInputs = [c + \"classVec\" for c in categoricalColumns] + numericCols\n",
    "\n",
    "# VectorAssembler, vectorize those input columns specified by assemblerInputs\n",
    "# put the output into a new column called features\n",
    "assembler = VectorAssembler(inputCols=assemblerInputs, outputCol=\"features\")\n",
    "stages += [assembler]"
   ]
  },
  {
   "cell_type": "code",
   "execution_count": 40,
   "metadata": {},
   "outputs": [],
   "source": [
    "from pyspark.ml import Pipeline\n",
    "pipeline = Pipeline(stages = stages)\n",
    "pipelineModel = pipeline.fit(df)\n",
    "df = pipelineModel.transform(df)"
   ]
  },
  {
   "cell_type": "code",
   "execution_count": 44,
   "metadata": {},
   "outputs": [],
   "source": [
    "train, test = df.randomSplit([0.8, 0.2], seed = 2019)"
   ]
  },
  {
   "cell_type": "code",
   "execution_count": 49,
   "metadata": {},
   "outputs": [
    {
     "name": "stdout",
     "output_type": "stream",
     "text": [
      "+---+-------+-----+-------------+----------+--------------------+\n",
      "|age|    job|label|rawPrediction|prediction|         probability|\n",
      "+---+-------+-----+-------------+----------+--------------------+\n",
      "| 18|student|  1.0|   [2.0,17.0]|       1.0|[0.10526315789473...|\n",
      "| 19|student|  0.0|    [0.0,5.0]|       1.0|           [0.0,1.0]|\n",
      "| 19|student|  1.0| [96.0,165.0]|       1.0|[0.36781609195402...|\n",
      "| 19|student|  1.0| [23.0,124.0]|       1.0|[0.15646258503401...|\n",
      "| 20| admin.|  0.0|    [5.0,2.0]|       0.0|[0.71428571428571...|\n",
      "| 20|student|  0.0|   [2.0,17.0]|       1.0|[0.10526315789473...|\n",
      "| 20|student|  0.0|    [0.0,5.0]|       1.0|           [0.0,1.0]|\n",
      "| 20|student|  1.0|    [0.0,5.0]|       1.0|           [0.0,1.0]|\n",
      "| 20|student|  1.0| [23.0,124.0]|       1.0|[0.15646258503401...|\n",
      "| 20|student|  1.0| [23.0,124.0]|       1.0|[0.15646258503401...|\n",
      "+---+-------+-----+-------------+----------+--------------------+\n",
      "only showing top 10 rows\n",
      "\n"
     ]
    }
   ],
   "source": [
    "from pyspark.ml.classification import DecisionTreeClassifier\n",
    "dt = DecisionTreeClassifier(featuresCol = 'features', labelCol = 'label', maxDepth = 10)\n",
    "dtModel = dt.fit(train)\n",
    "predictions = dtModel.transform(test)\n",
    "predictions.select('age', 'job', 'label', 'rawPrediction', 'prediction', 'probability').show(10)"
   ]
  },
  {
   "cell_type": "code",
   "execution_count": 50,
   "metadata": {},
   "outputs": [
    {
     "name": "stdout",
     "output_type": "stream",
     "text": [
      "Test Area Under ROC: 0.7655935890839407\n"
     ]
    }
   ],
   "source": [
    "from pyspark.ml.evaluation import BinaryClassificationEvaluator\n",
    "evaluator = BinaryClassificationEvaluator()\n",
    "print(\"Test Area Under ROC: \" + str(evaluator.evaluate(predictions, {evaluator.metricName: \"areaUnderROC\"})))"
   ]
  },
  {
   "cell_type": "markdown",
   "metadata": {},
   "source": [
    "<hr/>"
   ]
  },
  {
   "cell_type": "markdown",
   "metadata": {},
   "source": [
    "![Quinlan](./pics/Quinlan.png)"
   ]
  },
  {
   "cell_type": "markdown",
   "metadata": {},
   "source": [
    "<hr/>"
   ]
  },
  {
   "cell_type": "markdown",
   "metadata": {},
   "source": [
    "### What if $y$ is continuous variable instead of categorical"
   ]
  },
  {
   "cell_type": "markdown",
   "metadata": {},
   "source": [
    "### What if feature is continuous variable instad of categorical"
   ]
  }
 ],
 "metadata": {
  "kernelspec": {
   "display_name": "Python 3",
   "language": "python",
   "name": "python3"
  },
  "language_info": {
   "codemirror_mode": {
    "name": "ipython",
    "version": 3
   },
   "file_extension": ".py",
   "mimetype": "text/x-python",
   "name": "python",
   "nbconvert_exporter": "python",
   "pygments_lexer": "ipython3",
   "version": "3.7.3"
  }
 },
 "nbformat": 4,
 "nbformat_minor": 2
}
