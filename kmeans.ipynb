{
 "cells": [
  {
   "cell_type": "markdown",
   "metadata": {},
   "source": [
    "# <center>k-means</center>"
   ]
  },
  {
   "cell_type": "markdown",
   "metadata": {},
   "source": [
    "> 物以类聚，人以群分"
   ]
  },
  {
   "cell_type": "markdown",
   "metadata": {},
   "source": [
    "![algorithm_sim](./pics/kmeans/algorithm_sim.jpg)"
   ]
  },
  {
   "cell_type": "markdown",
   "metadata": {},
   "source": [
    "![kmeans_b4_clustering](./pics/kmeans/kmeans_b4_clustering.jpg)"
   ]
  },
  {
   "cell_type": "markdown",
   "metadata": {},
   "source": [
    "![kmeans_after_clustering](./pics/kmeans/kmeans_after_clustering.jpg)"
   ]
  },
  {
   "cell_type": "markdown",
   "metadata": {},
   "source": [
    "<hr/>"
   ]
  },
  {
   "cell_type": "markdown",
   "metadata": {},
   "source": [
    "## Optimisation\n",
    "\n",
    "$E = \\sum \\sum D(X, \\mu_i)^2$\n",
    "\n",
    "* $\\mu_i 质心$"
   ]
  },
  {
   "cell_type": "markdown",
   "metadata": {},
   "source": [
    "## Elbow Method for optimal value of k in KMeans\n",
    "\n",
    "![elbow](./pics/kmeans/elbow.jpg)"
   ]
  },
  {
   "cell_type": "code",
   "execution_count": null,
   "metadata": {},
   "outputs": [],
   "source": [
    "from pyspark.sql import SparkSession\n",
    "spark = SparkSession.builder.appName('kmeans').getOrCreate()"
   ]
  },
  {
   "cell_type": "code",
   "execution_count": 2,
   "metadata": {},
   "outputs": [],
   "source": [
    "import pyspark\n",
    "import pandas as pd\n",
    "import numpy as np\n",
    "import matplotlib.pyplot as plt\n",
    "from pyspark.sql.functions import * \n",
    "from pyspark.sql.types import *\n",
    "from pyspark.sql.functions import rand, randn\n",
    "from pyspark.ml.clustering import KMeans\n",
    "from pyspark.sql.functions import sha2"
   ]
  },
  {
   "cell_type": "code",
   "execution_count": 5,
   "metadata": {},
   "outputs": [],
   "source": [
    "#read the dataset\n",
    "df=spark.read.csv('./data/music/music.csv',inferSchema=True,header=True)"
   ]
  },
  {
   "cell_type": "code",
   "execution_count": 6,
   "metadata": {},
   "outputs": [
    {
     "data": {
      "text/plain": [
       "429023"
      ]
     },
     "execution_count": 6,
     "metadata": {},
     "output_type": "execute_result"
    }
   ],
   "source": [
    "df.count()"
   ]
  },
  {
   "cell_type": "code",
   "execution_count": 7,
   "metadata": {},
   "outputs": [
    {
     "name": "stdout",
     "output_type": "stream",
     "text": [
      "root\n",
      " |-- user_id: string (nullable = true)\n",
      " |-- music category: string (nullable = true)\n",
      "\n"
     ]
    }
   ],
   "source": [
    "df.printSchema()"
   ]
  },
  {
   "cell_type": "code",
   "execution_count": 8,
   "metadata": {},
   "outputs": [
    {
     "data": {
      "text/plain": [
       "21"
      ]
     },
     "execution_count": 8,
     "metadata": {},
     "output_type": "execute_result"
    }
   ],
   "source": [
    "df.select('music category').distinct().count()"
   ]
  },
  {
   "cell_type": "code",
   "execution_count": 9,
   "metadata": {},
   "outputs": [
    {
     "name": "stdout",
     "output_type": "stream",
     "text": [
      "+-----------------+-----+\n",
      "|music category   |count|\n",
      "+-----------------+-----+\n",
      "|Alternative Music|64227|\n",
      "|Blues            |54647|\n",
      "|Classical Music  |43117|\n",
      "|Country Music    |39891|\n",
      "|Dance Music      |35779|\n",
      "|Easy Listening   |34356|\n",
      "|Electronic Music |30985|\n",
      "|Rap              |29569|\n",
      "|Hip Hop          |16895|\n",
      "|Indie Pop        |16244|\n",
      "|Motivational     |10118|\n",
      "|Asian Pop        |8444 |\n",
      "|Jazz             |7685 |\n",
      "|Latin Music      |7302 |\n",
      "|New Age          |7053 |\n",
      "|Opera            |6188 |\n",
      "|Hindi Music      |5689 |\n",
      "|Popular          |4729 |\n",
      "|Soulful          |2403 |\n",
      "|Reggae           |1970 |\n",
      "|Rock             |1732 |\n",
      "+-----------------+-----+\n",
      "\n"
     ]
    }
   ],
   "source": [
    "df.groupBy('music category').count().orderBy('count',ascending=False).show(100,False)"
   ]
  },
  {
   "cell_type": "code",
   "execution_count": 10,
   "metadata": {},
   "outputs": [
    {
     "data": {
      "text/plain": [
       "775"
      ]
     },
     "execution_count": 10,
     "metadata": {},
     "output_type": "execute_result"
    }
   ],
   "source": [
    "df.select('user_id').distinct().count()"
   ]
  },
  {
   "cell_type": "code",
   "execution_count": 11,
   "metadata": {},
   "outputs": [
    {
     "name": "stdout",
     "output_type": "stream",
     "text": [
      "+----------------------------------------------------------------+-----+\n",
      "|user_id                                                         |count|\n",
      "+----------------------------------------------------------------+-----+\n",
      "|628119a73b9725466e6c309f803d30cfc3b11d2a426cdd5f0d62a496e105c914|14257|\n",
      "|179dd34be075e729f14dadc28a34459226c4f62797af5f186bddbb7428b8fc78|11804|\n",
      "|2d765ea4ffc6554c95a1c703afcd3470bc118a65c2f0728871f4d0f40628f41b|11001|\n",
      "|ca60aad85306a7fdd51a469ca6a5d27109dfd5f5781d7da985c70574d2520d23|10479|\n",
      "|03bfd7e24d3a7ce9e3973f9d42ad89e4c1710b89bec59b2b08712ba73372dcbc|10075|\n",
      "|7660ca8a4f5df748976aac001d5f0c5b7c8806f5c08197542d26c2eac4b20f85|9932 |\n",
      "|b6eb8ef9cacc79b6779a7e065c3b0fb5174397ea983d70453bc978b6e46f95e2|7694 |\n",
      "|e92f348b4a29089c9d7b82095d0bd49422153b60bbde08527015121e44699990|7210 |\n",
      "|da03e0ef521fecb209f01410eefff11c115fda2d217dde51fd870761b31bb968|7182 |\n",
      "|04cd1fc5c925a8a702607d6c1a047b8e0cbe170bdaed5270369d321f73254b53|6853 |\n",
      "|a2374ccb47b0af60aafabeed11b979acf0d72e1afe7f96b671302aaa51592531|6730 |\n",
      "|1ed20907b0eb013b6d2b8097671c5faaaae884ac9ae4b77753ee7d640036e080|6612 |\n",
      "|19152e9dc36bd8fdded0be20e1a371cc5a57edd5a248973c9fa5b8ed4c8bdb0c|5378 |\n",
      "|dd69f69a8df66f0d79c8a2ce41ace204dbb74e1a5a3ae36c511b8cd9ef9000a5|5255 |\n",
      "|1b2dfdebfa64564c8eb7785c77b9f1cdaee6059b63b30a59c2701fee6c20407c|4928 |\n",
      "|7cc577809aedea3d9423fccf6091258b9a7a0b66089d6aa86689548139c36e4b|4450 |\n",
      "|0d5b7fbb167130690b8a7149d81529a2048242945a64b46c427915e8fded9e75|4371 |\n",
      "|7a39568d24f3b1a953c2bc98d638cdc2b7eb02f0e6ddcee29bbc5034ec9ad76e|4324 |\n",
      "|e6f90a69588f335223ac774391f7a1835d9225dc8f2090fd59265d9836783f25|4301 |\n",
      "|4ab70e2a682304ce1b4b3b292b015ae343f255aca18863a4fe47a69ffd3470f8|4277 |\n",
      "+----------------------------------------------------------------+-----+\n",
      "only showing top 20 rows\n",
      "\n"
     ]
    }
   ],
   "source": [
    "df.groupBy('user_id').count().orderBy('count',ascending=False).show(20,False)"
   ]
  },
  {
   "cell_type": "code",
   "execution_count": 12,
   "metadata": {},
   "outputs": [
    {
     "name": "stdout",
     "output_type": "stream",
     "text": [
      "+----------------------------------------------------------------+-----+\n",
      "|user_id                                                         |count|\n",
      "+----------------------------------------------------------------+-----+\n",
      "|e6e6ceb674b7ca53391ac404558a3f8d222db82c643b8c21070db4f029a50095|1    |\n",
      "|4d5920f000b000d60fdc63043886f47cc056d2835d3a73e50f389a5694b19115|1    |\n",
      "|bdb448f271ec83b324acd32248f1401964cb1f5f716e94eebed508f02e889e14|1    |\n",
      "|1e3e7153bf1aa5f43b1d1f27c940087587a50d40d399f4cf31b58546a39b9f26|1    |\n",
      "|7ba2fabcbbd4705128a8966d4d5fcf9d3e284c77fada7752da397f479ad4a12e|1    |\n",
      "|a09074b27cd4ab61654c0f4e21bc5e97dc86a611743a1f8b37db3a76df8e306e|1    |\n",
      "|ecb27d9bf54e751018cd6c1cc5a0f2d812ff08585271acfc980bdacb742a7a02|1    |\n",
      "|597affc56ba81274561da2b3541a8e1a30f7bbcf75cb54a9f9c1a885d88f7f7b|1    |\n",
      "|8caf42bf00baea90141dec822bece26fc54bf9884c7dbf0439b445fb98b50152|1    |\n",
      "|8691b41f5ae65644c8aca0ec9d738eb3b5537b106f0fdcb3f652cc77b7ab7dd6|1    |\n",
      "|54f2e60bd31a775aca7fb60816c6990a415fe66694098d1ee64cc9e13f831a64|1    |\n",
      "|402c7aac3776a3758ca143819a0653c6cd33c6c35dd831d9ba5aad1dff43a888|1    |\n",
      "|d631ffaf7f6731b146cecbf16c02fc543d02f5a8377561e5dd60a9eba603e001|1    |\n",
      "|8aced64c96741dbeab4659f102f34c157189b3f7a63807d87bad5d8c663005cb|1    |\n",
      "|1e6fb89e6aca7641dba8bbd87e97badb8306f1ce50c02c2b0a6f36457e843221|1    |\n",
      "|760430c89527a8b503dd02bada46926938c5ad036b7ca08a21d685fe5a89f01e|1    |\n",
      "|55efc631da61b192de874d5e2b05ea1e04ec08bd2e3009ebcd0053a84bbd4341|1    |\n",
      "|ba35ab150a757e0b3abf9c5f11b7686e5394f6cdcb59d257f9fd2e1dd7cf23c2|1    |\n",
      "|6ec9ec386cacd1af3c828e989f3a0cb9872973eaa977dfcaa857f00ee5fa0138|2    |\n",
      "|f83a8b1292b98e54f0cbbb5233a8ab89f1a5cf7bc282b2f7b4bea131bb3a6f39|2    |\n",
      "+----------------------------------------------------------------+-----+\n",
      "only showing top 20 rows\n",
      "\n"
     ]
    }
   ],
   "source": [
    "df.groupBy('user_id').count().orderBy('count',ascending=True).show(20,False)"
   ]
  },
  {
   "cell_type": "code",
   "execution_count": 13,
   "metadata": {},
   "outputs": [],
   "source": [
    "#creating new df with single record for each user\n",
    "feature_df=df.stat.crosstab(\"user_id\", \"music category\")"
   ]
  },
  {
   "cell_type": "code",
   "execution_count": 16,
   "metadata": {},
   "outputs": [
    {
     "name": "stdout",
     "output_type": "stream",
     "text": [
      "root\n",
      " |-- user_id_music category: string (nullable = true)\n",
      " |-- Alternative Music: long (nullable = true)\n",
      " |-- Asian Pop: long (nullable = true)\n",
      " |-- Blues: long (nullable = true)\n",
      " |-- Classical Music: long (nullable = true)\n",
      " |-- Country Music: long (nullable = true)\n",
      " |-- Dance Music: long (nullable = true)\n",
      " |-- Easy Listening: long (nullable = true)\n",
      " |-- Electronic Music: long (nullable = true)\n",
      " |-- Hindi Music: long (nullable = true)\n",
      " |-- Hip Hop: long (nullable = true)\n",
      " |-- Indie Pop: long (nullable = true)\n",
      " |-- Jazz: long (nullable = true)\n",
      " |-- Latin Music: long (nullable = true)\n",
      " |-- Motivational: long (nullable = true)\n",
      " |-- New Age: long (nullable = true)\n",
      " |-- Opera: long (nullable = true)\n",
      " |-- Popular: long (nullable = true)\n",
      " |-- Rap: long (nullable = true)\n",
      " |-- Reggae: long (nullable = true)\n",
      " |-- Rock: long (nullable = true)\n",
      " |-- Soulful: long (nullable = true)\n",
      "\n"
     ]
    }
   ],
   "source": [
    "feature_df.printSchema()"
   ]
  },
  {
   "cell_type": "code",
   "execution_count": 17,
   "metadata": {},
   "outputs": [
    {
     "name": "stdout",
     "output_type": "stream",
     "text": [
      "+----------------------------------------------------------------+-----------------+---------+-----+---------------+-------------+-----------+--------------+----------------+-----------+-------+---------+----+-----------+------------+-------+-----+-------+---+------+----+-------+\n",
      "|user_id_music category                                          |Alternative Music|Asian Pop|Blues|Classical Music|Country Music|Dance Music|Easy Listening|Electronic Music|Hindi Music|Hip Hop|Indie Pop|Jazz|Latin Music|Motivational|New Age|Opera|Popular|Rap|Reggae|Rock|Soulful|\n",
      "+----------------------------------------------------------------+-----------------+---------+-----+---------------+-------------+-----------+--------------+----------------+-----------+-------+---------+----+-----------+------------+-------+-----+-------+---+------+----+-------+\n",
      "|ca3c4285512798abe7d81fa2d0588549211be9516d9b2050e5564f8e912312c7|65               |0        |7    |8              |7            |12         |7             |2               |12         |7      |0        |15  |0          |2           |0      |3    |0      |3  |0     |1   |0      |\n",
      "|b457919ae168ac12ec7e0303ae0d5fe292b63c9d04eb54e039942e7f46552ec4|80               |0        |65   |135            |16           |55         |7             |34              |0          |12     |6        |7   |3          |2           |1      |2    |0      |5  |0     |0   |0      |\n",
      "|a87bb168ba6e5a8da5eccce18c95565d843b40c1833b0f6c3089eb083f0fe3d3|0                |0        |11   |0              |9            |3          |0             |3               |3          |0      |5        |0   |0          |1           |0      |0    |4      |0  |0     |0   |5      |\n",
      "+----------------------------------------------------------------+-----------------+---------+-----+---------------+-------------+-----------+--------------+----------------+-----------+-------+---------+----+-----------+------------+-------+-----+-------+---+------+----+-------+\n",
      "only showing top 3 rows\n",
      "\n"
     ]
    }
   ],
   "source": [
    "feature_df.show(3,False)"
   ]
  },
  {
   "cell_type": "code",
   "execution_count": 18,
   "metadata": {},
   "outputs": [],
   "source": [
    "from pyspark.ml.linalg import Vectors\n",
    "from pyspark.ml.feature import VectorAssembler"
   ]
  },
  {
   "cell_type": "code",
   "execution_count": 19,
   "metadata": {},
   "outputs": [
    {
     "name": "stdout",
     "output_type": "stream",
     "text": [
      "['user_id_music category', 'Alternative Music', 'Asian Pop', 'Blues', 'Classical Music', 'Country Music', 'Dance Music', 'Easy Listening', 'Electronic Music', 'Hindi Music', 'Hip Hop', 'Indie Pop', 'Jazz', 'Latin Music', 'Motivational', 'New Age', 'Opera', 'Popular', 'Rap', 'Reggae', 'Rock', 'Soulful']\n"
     ]
    }
   ],
   "source": [
    "print(feature_df.columns)"
   ]
  },
  {
   "cell_type": "code",
   "execution_count": 20,
   "metadata": {},
   "outputs": [],
   "source": [
    "feat_cols=[col for col in feature_df.columns if col != 'user_id_music category']"
   ]
  },
  {
   "cell_type": "code",
   "execution_count": 21,
   "metadata": {},
   "outputs": [
    {
     "name": "stdout",
     "output_type": "stream",
     "text": [
      "['Alternative Music', 'Asian Pop', 'Blues', 'Classical Music', 'Country Music', 'Dance Music', 'Easy Listening', 'Electronic Music', 'Hindi Music', 'Hip Hop', 'Indie Pop', 'Jazz', 'Latin Music', 'Motivational', 'New Age', 'Opera', 'Popular', 'Rap', 'Reggae', 'Rock', 'Soulful']\n"
     ]
    }
   ],
   "source": [
    "print(feat_cols)"
   ]
  },
  {
   "cell_type": "code",
   "execution_count": 22,
   "metadata": {},
   "outputs": [],
   "source": [
    "vec_assembler = VectorAssembler(inputCols = feat_cols, outputCol='features')\n",
    "final_data = vec_assembler.transform(feature_df)"
   ]
  },
  {
   "cell_type": "code",
   "execution_count": 23,
   "metadata": {},
   "outputs": [
    {
     "name": "stdout",
     "output_type": "stream",
     "text": [
      "root\n",
      " |-- user_id_music category: string (nullable = true)\n",
      " |-- Alternative Music: long (nullable = true)\n",
      " |-- Asian Pop: long (nullable = true)\n",
      " |-- Blues: long (nullable = true)\n",
      " |-- Classical Music: long (nullable = true)\n",
      " |-- Country Music: long (nullable = true)\n",
      " |-- Dance Music: long (nullable = true)\n",
      " |-- Easy Listening: long (nullable = true)\n",
      " |-- Electronic Music: long (nullable = true)\n",
      " |-- Hindi Music: long (nullable = true)\n",
      " |-- Hip Hop: long (nullable = true)\n",
      " |-- Indie Pop: long (nullable = true)\n",
      " |-- Jazz: long (nullable = true)\n",
      " |-- Latin Music: long (nullable = true)\n",
      " |-- Motivational: long (nullable = true)\n",
      " |-- New Age: long (nullable = true)\n",
      " |-- Opera: long (nullable = true)\n",
      " |-- Popular: long (nullable = true)\n",
      " |-- Rap: long (nullable = true)\n",
      " |-- Reggae: long (nullable = true)\n",
      " |-- Rock: long (nullable = true)\n",
      " |-- Soulful: long (nullable = true)\n",
      " |-- features: vector (nullable = true)\n",
      "\n",
      "None\n"
     ]
    }
   ],
   "source": [
    "print(final_data.printSchema())"
   ]
  },
  {
   "cell_type": "code",
   "execution_count": 24,
   "metadata": {},
   "outputs": [],
   "source": [
    "from pyspark.ml.feature import StandardScaler"
   ]
  },
  {
   "cell_type": "code",
   "execution_count": 25,
   "metadata": {},
   "outputs": [],
   "source": [
    "#scaling the features\n",
    "scaler = StandardScaler(inputCol=\"features\", outputCol=\"scaledFeatures\", withStd=True, withMean=False)"
   ]
  },
  {
   "cell_type": "code",
   "execution_count": 26,
   "metadata": {},
   "outputs": [],
   "source": [
    "# Compute summary statistics by fitting the StandardScaler\n",
    "scalerModel = scaler.fit(final_data)"
   ]
  },
  {
   "cell_type": "code",
   "execution_count": 27,
   "metadata": {},
   "outputs": [],
   "source": [
    "# Normalize each feature to have unit standard deviation.\n",
    "cluster_final_data = scalerModel.transform(final_data)"
   ]
  },
  {
   "cell_type": "code",
   "execution_count": 28,
   "metadata": {},
   "outputs": [
    {
     "data": {
      "text/plain": [
       "['user_id_music category',\n",
       " 'Alternative Music',\n",
       " 'Asian Pop',\n",
       " 'Blues',\n",
       " 'Classical Music',\n",
       " 'Country Music',\n",
       " 'Dance Music',\n",
       " 'Easy Listening',\n",
       " 'Electronic Music',\n",
       " 'Hindi Music',\n",
       " 'Hip Hop',\n",
       " 'Indie Pop',\n",
       " 'Jazz',\n",
       " 'Latin Music',\n",
       " 'Motivational',\n",
       " 'New Age',\n",
       " 'Opera',\n",
       " 'Popular',\n",
       " 'Rap',\n",
       " 'Reggae',\n",
       " 'Rock',\n",
       " 'Soulful',\n",
       " 'features',\n",
       " 'scaledFeatures']"
      ]
     },
     "execution_count": 28,
     "metadata": {},
     "output_type": "execute_result"
    }
   ],
   "source": [
    "cluster_final_data.columns"
   ]
  },
  {
   "cell_type": "code",
   "execution_count": 29,
   "metadata": {},
   "outputs": [
    {
     "name": "stdout",
     "output_type": "stream",
     "text": [
      "With K=2\n",
      "Within Set Sum of Squared Errors = 13171.843878802949\n",
      "------------------------------------------------------------\n",
      "With K=3\n",
      "Within Set Sum of Squared Errors = 12124.384526593776\n",
      "------------------------------------------------------------\n",
      "With K=4\n",
      "Within Set Sum of Squared Errors = 11889.488664034188\n",
      "------------------------------------------------------------\n",
      "With K=5\n",
      "Within Set Sum of Squared Errors = 10808.460975482285\n",
      "------------------------------------------------------------\n",
      "With K=6\n",
      "Within Set Sum of Squared Errors = 9514.975534943547\n",
      "------------------------------------------------------------\n",
      "With K=7\n",
      "Within Set Sum of Squared Errors = 9176.387862752983\n",
      "------------------------------------------------------------\n",
      "With K=8\n",
      "Within Set Sum of Squared Errors = 8665.852198866673\n",
      "------------------------------------------------------------\n",
      "With K=9\n",
      "Within Set Sum of Squared Errors = 8320.517817802725\n",
      "------------------------------------------------------------\n"
     ]
    }
   ],
   "source": [
    "errors=[]\n",
    "\n",
    "for k in range(2,10):\n",
    "    kmeans = KMeans(featuresCol='scaledFeatures',k=k)\n",
    "    model = kmeans.fit(cluster_final_data)\n",
    "    wssse = model.computeCost(cluster_final_data)\n",
    "    errors.append(wssse)\n",
    "    print(\"With K={}\".format(k))\n",
    "    print(\"Within Set Sum of Squared Errors = \" + str(wssse))\n",
    "    print('--'*30)"
   ]
  },
  {
   "cell_type": "code",
   "execution_count": 30,
   "metadata": {},
   "outputs": [
    {
     "data": {
      "image/png": "[encoded data removed]",
      "text/plain": [
       "<Figure size 432x288 with 1 Axes>"
      ]
     },
     "metadata": {
      "needs_background": "light"
     },
     "output_type": "display_data"
    }
   ],
   "source": [
    "cluster_number = range(2,10)\n",
    "plt.scatter(cluster_number,errors)\n",
    "plt.xlabel('clusters')\n",
    "plt.ylabel('WSSE')\n",
    "plt.show()"
   ]
  },
  {
   "cell_type": "code",
   "execution_count": 31,
   "metadata": {},
   "outputs": [],
   "source": [
    "#Selecting k =6 for kmeans clustering\n",
    "kmeans6 = KMeans(featuresCol='scaledFeatures',k=6)"
   ]
  },
  {
   "cell_type": "code",
   "execution_count": 32,
   "metadata": {},
   "outputs": [],
   "source": [
    "#Fitting the model on data\n",
    "model_k6 = kmeans6.fit(cluster_final_data)"
   ]
  },
  {
   "cell_type": "code",
   "execution_count": 40,
   "metadata": {},
   "outputs": [],
   "source": [
    "cluser_prediction=model_k6.transform(cluster_final_data)"
   ]
  },
  {
   "cell_type": "code",
   "execution_count": 42,
   "metadata": {},
   "outputs": [
    {
     "name": "stdout",
     "output_type": "stream",
     "text": [
      "+----------+-----+\n",
      "|prediction|count|\n",
      "+----------+-----+\n",
      "|         1|    1|\n",
      "|         3|    6|\n",
      "|         5|    1|\n",
      "|         4|   41|\n",
      "|         2|    1|\n",
      "|         0|  725|\n",
      "+----------+-----+\n",
      "\n"
     ]
    }
   ],
   "source": [
    "cluser_prediction.groupBy('prediction').count().show()"
   ]
  },
  {
   "cell_type": "code",
   "execution_count": null,
   "metadata": {},
   "outputs": [],
   "source": []
  }
 ],
 "metadata": {
  "kernelspec": {
   "display_name": "Python 3",
   "language": "python",
   "name": "python3"
  },
  "language_info": {
   "codemirror_mode": {
    "name": "ipython",
    "version": 3
   },
   "file_extension": ".py",
   "mimetype": "text/x-python",
   "name": "python",
   "nbconvert_exporter": "python",
   "pygments_lexer": "ipython3",
   "version": "3.7.3"
  }
 },
 "nbformat": 4,
 "nbformat_minor": 2
}
